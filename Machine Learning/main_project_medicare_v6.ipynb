{
  "nbformat": 4,
  "nbformat_minor": 0,
  "metadata": {
    "colab": {
      "name": "Copy of Project_Final.ipynb",
      "provenance": []
    },
    "kernelspec": {
      "name": "python3",
      "display_name": "Python 3"
    },
    "language_info": {
      "name": "python"
    }
  },
  "cells": [
    {
      "cell_type": "markdown",
      "metadata": {
        "id": "zdeZkbF0FoFS"
      },
      "source": [
        "**Bangkit Final Project: Medicare - Medical Records powered by AI**\n",
        "\n"
      ]
    },
    {
      "cell_type": "markdown",
      "metadata": {
        "id": "qx7v23ySOivJ"
      },
      "source": [
        "### **Importing Modules** <a id=\"4\"></a>\n"
      ]
    },
    {
      "cell_type": "code",
      "metadata": {
        "id": "LovqJcqJOdrr",
        "colab": {
          "base_uri": "https://localhost:8080/"
        },
        "outputId": "84c7f90b-0553-4877-896e-160de8710615"
      },
      "source": [
        "import pandas as pd\n",
        "import numpy as np\n",
        "import tensorflow as tf\n",
        "from tensorflow import feature_column\n",
        "from tensorflow.keras import layers\n",
        "from tensorflow.keras.optimizers import Adam\n",
        "from tensorflow.keras.layers import Conv1D, MaxPool1D, Flatten, Dense,Dropout, BatchNormalization, LeakyReLU\n",
        "from sklearn.model_selection import train_test_split\n",
        "print(tf.__version__)"
      ],
      "execution_count": 1,
      "outputs": [
        {
          "output_type": "stream",
          "text": [
            "2.5.0\n"
          ],
          "name": "stdout"
        }
      ]
    },
    {
      "cell_type": "code",
      "metadata": {
        "id": "0ZISEkwBPgD-"
      },
      "source": [
        "#Import the visualization libraries\n",
        "import seaborn as sn\n",
        "import matplotlib.pyplot as plt"
      ],
      "execution_count": 2,
      "outputs": []
    },
    {
      "cell_type": "code",
      "metadata": {
        "id": "11FOj-jcPh0B"
      },
      "source": [
        "#import access\n",
        "import os"
      ],
      "execution_count": 3,
      "outputs": []
    },
    {
      "cell_type": "code",
      "metadata": {
        "id": "p1I8O_dbPjYw"
      },
      "source": [
        "#Report\n",
        "import tensorboard\n",
        "import time"
      ],
      "execution_count": 4,
      "outputs": []
    },
    {
      "cell_type": "markdown",
      "metadata": {
        "id": "VkTbieJJK9Z7"
      },
      "source": [
        "### **Kaggle Connect** <a id=\"4\"></a>\n"
      ]
    },
    {
      "cell_type": "code",
      "metadata": {
        "colab": {
          "resources": {
            "http://localhost:8080/nbextensions/google.colab/files.js": {
              "data": "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",
              "ok": true,
              "headers": [
                [
                  "content-type",
                  "application/javascript"
                ]
              ],
              "status": 200,
              "status_text": ""
            }
          },
          "base_uri": "https://localhost:8080/",
          "height": 110
        },
        "id": "Nf7ZCaUsLIFP",
        "outputId": "2041729b-7606-4563-b80e-9a5e821598f6"
      },
      "source": [
        "from google.colab import files\n",
        "files.upload() #Kaggle.json "
      ],
      "execution_count": null,
      "outputs": [
        {
          "output_type": "display_data",
          "data": {
            "text/html": [
              "\n",
              "     <input type=\"file\" id=\"files-80231da0-e57f-46a8-9405-b1c775cf6c41\" name=\"files[]\" multiple disabled\n",
              "        style=\"border:none\" />\n",
              "     <output id=\"result-80231da0-e57f-46a8-9405-b1c775cf6c41\">\n",
              "      Upload widget is only available when the cell has been executed in the\n",
              "      current browser session. Please rerun this cell to enable.\n",
              "      </output>\n",
              "      <script src=\"/nbextensions/google.colab/files.js\"></script> "
            ],
            "text/plain": [
              "<IPython.core.display.HTML object>"
            ]
          },
          "metadata": {
            "tags": []
          }
        },
        {
          "output_type": "stream",
          "text": [
            "Saving kaggle.json to kaggle.json\n"
          ],
          "name": "stdout"
        },
        {
          "output_type": "execute_result",
          "data": {
            "text/plain": [
              "{'kaggle.json': b'{\"username\":\"naufalalhakim\",\"key\":\"e19ce9036d9ed26577d9e42c300f6eb1\"}'}"
            ]
          },
          "metadata": {
            "tags": []
          },
          "execution_count": 5
        }
      ]
    },
    {
      "cell_type": "code",
      "metadata": {
        "id": "ObdcIaV6LQxF"
      },
      "source": [
        "!mkdir -p ~/.kaggle\n",
        "!cp kaggle.json ~/.kaggle/\n",
        "!chmod 600 ~/.kaggle/kaggle.json"
      ],
      "execution_count": null,
      "outputs": []
    },
    {
      "cell_type": "code",
      "metadata": {
        "colab": {
          "base_uri": "https://localhost:8080/"
        },
        "id": "GNnr4HfYLRYZ",
        "outputId": "f617ccb5-792f-4e0c-a61e-32aad66d2a74"
      },
      "source": [
        "!kaggle datasets download -d mathchi/diabetes-data-set"
      ],
      "execution_count": null,
      "outputs": [
        {
          "output_type": "stream",
          "text": [
            "Downloading diabetes-data-set.zip to /content\n",
            "\r  0% 0.00/8.91k [00:00<?, ?B/s]\n",
            "\r100% 8.91k/8.91k [00:00<00:00, 8.32MB/s]\n"
          ],
          "name": "stdout"
        }
      ]
    },
    {
      "cell_type": "code",
      "metadata": {
        "id": "cncVuPQqL6_0"
      },
      "source": [
        "import zipfile\n",
        "local_zip = '/content/diabetes-data-set.zip'\n",
        "zip_ref   = zipfile.ZipFile(local_zip, 'r')\n",
        "zip_ref.extractall('/content/')\n",
        "zip_ref.close()"
      ],
      "execution_count": null,
      "outputs": []
    },
    {
      "cell_type": "markdown",
      "metadata": {
        "id": "WRnlz-T-LvsO"
      },
      "source": [
        "### **Reading CSV from Kaggle** <a id=\"4\"></a>\n"
      ]
    },
    {
      "cell_type": "code",
      "metadata": {
        "id": "P0jzr6BGLvsV"
      },
      "source": [
        "df = pd.read_csv('/content/diabetes.csv', sep=\",\")\n",
        "#Lets get the first 5 entries of the dataset\n",
        "df.head()"
      ],
      "execution_count": null,
      "outputs": []
    },
    {
      "cell_type": "code",
      "metadata": {
        "id": "Vixq3tliLvsW"
      },
      "source": [
        "df.shape\n",
        "#The dataset contains 768 entries with t 9 variables,  8 of the variables are independent features while 1 i the target variable(Outcome)"
      ],
      "execution_count": null,
      "outputs": []
    },
    {
      "cell_type": "code",
      "metadata": {
        "id": "UuheXH6iLvsW"
      },
      "source": [
        "df.columns"
      ],
      "execution_count": null,
      "outputs": []
    },
    {
      "cell_type": "markdown",
      "metadata": {
        "id": "hpBY_L5jLvsW"
      },
      "source": [
        "Dropp"
      ]
    },
    {
      "cell_type": "code",
      "metadata": {
        "id": "GioarOTvLvsX"
      },
      "source": [
        "df_dropped = df.drop(['DiabetesPedigreeFunction'], axis = 1)"
      ],
      "execution_count": null,
      "outputs": []
    },
    {
      "cell_type": "code",
      "metadata": {
        "id": "02hLy4-QLvsX"
      },
      "source": [
        "df_dropped"
      ],
      "execution_count": null,
      "outputs": []
    },
    {
      "cell_type": "markdown",
      "metadata": {
        "id": "1Tsz0bw0MJE2"
      },
      "source": [
        "### **Gdrive Connect** <a id=\"4\"></a>\n"
      ]
    },
    {
      "cell_type": "markdown",
      "metadata": {
        "id": "omL7pscDiM4R"
      },
      "source": [
        "Kalo mau datanya https://www.kaggle.com/mathchi/diabetes-data-set/download\n"
      ]
    },
    {
      "cell_type": "code",
      "metadata": {
        "colab": {
          "base_uri": "https://localhost:8080/"
        },
        "id": "xqp8p13kEQEW",
        "outputId": "dd956bc6-f194-46b2-a4d6-b90b2394eab9"
      },
      "source": [
        "from google.colab import drive\n",
        "drive.mount('/content/drive')"
      ],
      "execution_count": 5,
      "outputs": [
        {
          "output_type": "stream",
          "text": [
            "Mounted at /content/drive\n"
          ],
          "name": "stdout"
        }
      ]
    },
    {
      "cell_type": "markdown",
      "metadata": {
        "id": "xjDF6DsOLDb3"
      },
      "source": [
        "### **Reading CSV from Drive** <a id=\"4\"></a>\n"
      ]
    },
    {
      "cell_type": "code",
      "metadata": {
        "id": "aizsqbgdSkUW",
        "colab": {
          "base_uri": "https://localhost:8080/",
          "height": 195
        },
        "outputId": "0bd2efb0-3462-40a5-921c-91661fd0f460"
      },
      "source": [
        "df = pd.read_csv('/content/drive/MyDrive/Final Project bangkit/diabetes.csv', sep=\",\")\n",
        "#Lets get the first 5 entries of the dataset\n",
        "df.head()"
      ],
      "execution_count": 6,
      "outputs": [
        {
          "output_type": "execute_result",
          "data": {
            "text/html": [
              "<div>\n",
              "<style scoped>\n",
              "    .dataframe tbody tr th:only-of-type {\n",
              "        vertical-align: middle;\n",
              "    }\n",
              "\n",
              "    .dataframe tbody tr th {\n",
              "        vertical-align: top;\n",
              "    }\n",
              "\n",
              "    .dataframe thead th {\n",
              "        text-align: right;\n",
              "    }\n",
              "</style>\n",
              "<table border=\"1\" class=\"dataframe\">\n",
              "  <thead>\n",
              "    <tr style=\"text-align: right;\">\n",
              "      <th></th>\n",
              "      <th>Pregnancies</th>\n",
              "      <th>Glucose</th>\n",
              "      <th>BloodPressure</th>\n",
              "      <th>SkinThickness</th>\n",
              "      <th>Insulin</th>\n",
              "      <th>BMI</th>\n",
              "      <th>DiabetesPedigreeFunction</th>\n",
              "      <th>Age</th>\n",
              "      <th>Outcome</th>\n",
              "    </tr>\n",
              "  </thead>\n",
              "  <tbody>\n",
              "    <tr>\n",
              "      <th>0</th>\n",
              "      <td>6</td>\n",
              "      <td>148</td>\n",
              "      <td>72</td>\n",
              "      <td>35</td>\n",
              "      <td>0</td>\n",
              "      <td>33.6</td>\n",
              "      <td>0.627</td>\n",
              "      <td>50</td>\n",
              "      <td>1</td>\n",
              "    </tr>\n",
              "    <tr>\n",
              "      <th>1</th>\n",
              "      <td>1</td>\n",
              "      <td>85</td>\n",
              "      <td>66</td>\n",
              "      <td>29</td>\n",
              "      <td>0</td>\n",
              "      <td>26.6</td>\n",
              "      <td>0.351</td>\n",
              "      <td>31</td>\n",
              "      <td>0</td>\n",
              "    </tr>\n",
              "    <tr>\n",
              "      <th>2</th>\n",
              "      <td>8</td>\n",
              "      <td>183</td>\n",
              "      <td>64</td>\n",
              "      <td>0</td>\n",
              "      <td>0</td>\n",
              "      <td>23.3</td>\n",
              "      <td>0.672</td>\n",
              "      <td>32</td>\n",
              "      <td>1</td>\n",
              "    </tr>\n",
              "    <tr>\n",
              "      <th>3</th>\n",
              "      <td>1</td>\n",
              "      <td>89</td>\n",
              "      <td>66</td>\n",
              "      <td>23</td>\n",
              "      <td>94</td>\n",
              "      <td>28.1</td>\n",
              "      <td>0.167</td>\n",
              "      <td>21</td>\n",
              "      <td>0</td>\n",
              "    </tr>\n",
              "    <tr>\n",
              "      <th>4</th>\n",
              "      <td>0</td>\n",
              "      <td>137</td>\n",
              "      <td>40</td>\n",
              "      <td>35</td>\n",
              "      <td>168</td>\n",
              "      <td>43.1</td>\n",
              "      <td>2.288</td>\n",
              "      <td>33</td>\n",
              "      <td>1</td>\n",
              "    </tr>\n",
              "  </tbody>\n",
              "</table>\n",
              "</div>"
            ],
            "text/plain": [
              "   Pregnancies  Glucose  BloodPressure  ...  DiabetesPedigreeFunction  Age  Outcome\n",
              "0            6      148             72  ...                     0.627   50        1\n",
              "1            1       85             66  ...                     0.351   31        0\n",
              "2            8      183             64  ...                     0.672   32        1\n",
              "3            1       89             66  ...                     0.167   21        0\n",
              "4            0      137             40  ...                     2.288   33        1\n",
              "\n",
              "[5 rows x 9 columns]"
            ]
          },
          "metadata": {
            "tags": []
          },
          "execution_count": 6
        }
      ]
    },
    {
      "cell_type": "code",
      "metadata": {
        "id": "DGvtDmMDSoej",
        "colab": {
          "base_uri": "https://localhost:8080/"
        },
        "outputId": "9038d2cc-68e7-4d43-90a6-23dd9fd5c1c3"
      },
      "source": [
        "df.shape\n",
        "#The dataset contains 768 entries with t 9 variables,  8 of the variables are independent features while 1 i the target variable(Outcome)"
      ],
      "execution_count": 7,
      "outputs": [
        {
          "output_type": "execute_result",
          "data": {
            "text/plain": [
              "(768, 9)"
            ]
          },
          "metadata": {
            "tags": []
          },
          "execution_count": 7
        }
      ]
    },
    {
      "cell_type": "code",
      "metadata": {
        "id": "tyZbKeuDSp4R",
        "colab": {
          "base_uri": "https://localhost:8080/"
        },
        "outputId": "00d7cbef-1b69-472c-96a1-dac30abef619"
      },
      "source": [
        "df.columns"
      ],
      "execution_count": 8,
      "outputs": [
        {
          "output_type": "execute_result",
          "data": {
            "text/plain": [
              "Index(['Pregnancies', 'Glucose', 'BloodPressure', 'SkinThickness', 'Insulin',\n",
              "       'BMI', 'DiabetesPedigreeFunction', 'Age', 'Outcome'],\n",
              "      dtype='object')"
            ]
          },
          "metadata": {
            "tags": []
          },
          "execution_count": 8
        }
      ]
    },
    {
      "cell_type": "markdown",
      "metadata": {
        "id": "GVrcFk6YU3Vm"
      },
      "source": [
        "Dropp"
      ]
    },
    {
      "cell_type": "code",
      "metadata": {
        "id": "fHWIc2mzU4hO"
      },
      "source": [
        "df_dropped = df.drop(['DiabetesPedigreeFunction'], axis = 1)"
      ],
      "execution_count": 9,
      "outputs": []
    },
    {
      "cell_type": "code",
      "metadata": {
        "id": "rvF452eqdJuc",
        "colab": {
          "base_uri": "https://localhost:8080/",
          "height": 402
        },
        "outputId": "c15e7f14-0de4-49bf-8eae-5775e618e8d6"
      },
      "source": [
        "df_dropped"
      ],
      "execution_count": 10,
      "outputs": [
        {
          "output_type": "execute_result",
          "data": {
            "text/html": [
              "<div>\n",
              "<style scoped>\n",
              "    .dataframe tbody tr th:only-of-type {\n",
              "        vertical-align: middle;\n",
              "    }\n",
              "\n",
              "    .dataframe tbody tr th {\n",
              "        vertical-align: top;\n",
              "    }\n",
              "\n",
              "    .dataframe thead th {\n",
              "        text-align: right;\n",
              "    }\n",
              "</style>\n",
              "<table border=\"1\" class=\"dataframe\">\n",
              "  <thead>\n",
              "    <tr style=\"text-align: right;\">\n",
              "      <th></th>\n",
              "      <th>Pregnancies</th>\n",
              "      <th>Glucose</th>\n",
              "      <th>BloodPressure</th>\n",
              "      <th>SkinThickness</th>\n",
              "      <th>Insulin</th>\n",
              "      <th>BMI</th>\n",
              "      <th>Age</th>\n",
              "      <th>Outcome</th>\n",
              "    </tr>\n",
              "  </thead>\n",
              "  <tbody>\n",
              "    <tr>\n",
              "      <th>0</th>\n",
              "      <td>6</td>\n",
              "      <td>148</td>\n",
              "      <td>72</td>\n",
              "      <td>35</td>\n",
              "      <td>0</td>\n",
              "      <td>33.6</td>\n",
              "      <td>50</td>\n",
              "      <td>1</td>\n",
              "    </tr>\n",
              "    <tr>\n",
              "      <th>1</th>\n",
              "      <td>1</td>\n",
              "      <td>85</td>\n",
              "      <td>66</td>\n",
              "      <td>29</td>\n",
              "      <td>0</td>\n",
              "      <td>26.6</td>\n",
              "      <td>31</td>\n",
              "      <td>0</td>\n",
              "    </tr>\n",
              "    <tr>\n",
              "      <th>2</th>\n",
              "      <td>8</td>\n",
              "      <td>183</td>\n",
              "      <td>64</td>\n",
              "      <td>0</td>\n",
              "      <td>0</td>\n",
              "      <td>23.3</td>\n",
              "      <td>32</td>\n",
              "      <td>1</td>\n",
              "    </tr>\n",
              "    <tr>\n",
              "      <th>3</th>\n",
              "      <td>1</td>\n",
              "      <td>89</td>\n",
              "      <td>66</td>\n",
              "      <td>23</td>\n",
              "      <td>94</td>\n",
              "      <td>28.1</td>\n",
              "      <td>21</td>\n",
              "      <td>0</td>\n",
              "    </tr>\n",
              "    <tr>\n",
              "      <th>4</th>\n",
              "      <td>0</td>\n",
              "      <td>137</td>\n",
              "      <td>40</td>\n",
              "      <td>35</td>\n",
              "      <td>168</td>\n",
              "      <td>43.1</td>\n",
              "      <td>33</td>\n",
              "      <td>1</td>\n",
              "    </tr>\n",
              "    <tr>\n",
              "      <th>...</th>\n",
              "      <td>...</td>\n",
              "      <td>...</td>\n",
              "      <td>...</td>\n",
              "      <td>...</td>\n",
              "      <td>...</td>\n",
              "      <td>...</td>\n",
              "      <td>...</td>\n",
              "      <td>...</td>\n",
              "    </tr>\n",
              "    <tr>\n",
              "      <th>763</th>\n",
              "      <td>10</td>\n",
              "      <td>101</td>\n",
              "      <td>76</td>\n",
              "      <td>48</td>\n",
              "      <td>180</td>\n",
              "      <td>32.9</td>\n",
              "      <td>63</td>\n",
              "      <td>0</td>\n",
              "    </tr>\n",
              "    <tr>\n",
              "      <th>764</th>\n",
              "      <td>2</td>\n",
              "      <td>122</td>\n",
              "      <td>70</td>\n",
              "      <td>27</td>\n",
              "      <td>0</td>\n",
              "      <td>36.8</td>\n",
              "      <td>27</td>\n",
              "      <td>0</td>\n",
              "    </tr>\n",
              "    <tr>\n",
              "      <th>765</th>\n",
              "      <td>5</td>\n",
              "      <td>121</td>\n",
              "      <td>72</td>\n",
              "      <td>23</td>\n",
              "      <td>112</td>\n",
              "      <td>26.2</td>\n",
              "      <td>30</td>\n",
              "      <td>0</td>\n",
              "    </tr>\n",
              "    <tr>\n",
              "      <th>766</th>\n",
              "      <td>1</td>\n",
              "      <td>126</td>\n",
              "      <td>60</td>\n",
              "      <td>0</td>\n",
              "      <td>0</td>\n",
              "      <td>30.1</td>\n",
              "      <td>47</td>\n",
              "      <td>1</td>\n",
              "    </tr>\n",
              "    <tr>\n",
              "      <th>767</th>\n",
              "      <td>1</td>\n",
              "      <td>93</td>\n",
              "      <td>70</td>\n",
              "      <td>31</td>\n",
              "      <td>0</td>\n",
              "      <td>30.4</td>\n",
              "      <td>23</td>\n",
              "      <td>0</td>\n",
              "    </tr>\n",
              "  </tbody>\n",
              "</table>\n",
              "<p>768 rows × 8 columns</p>\n",
              "</div>"
            ],
            "text/plain": [
              "     Pregnancies  Glucose  BloodPressure  ...   BMI  Age  Outcome\n",
              "0              6      148             72  ...  33.6   50        1\n",
              "1              1       85             66  ...  26.6   31        0\n",
              "2              8      183             64  ...  23.3   32        1\n",
              "3              1       89             66  ...  28.1   21        0\n",
              "4              0      137             40  ...  43.1   33        1\n",
              "..           ...      ...            ...  ...   ...  ...      ...\n",
              "763           10      101             76  ...  32.9   63        0\n",
              "764            2      122             70  ...  36.8   27        0\n",
              "765            5      121             72  ...  26.2   30        0\n",
              "766            1      126             60  ...  30.1   47        1\n",
              "767            1       93             70  ...  30.4   23        0\n",
              "\n",
              "[768 rows x 8 columns]"
            ]
          },
          "metadata": {
            "tags": []
          },
          "execution_count": 10
        }
      ]
    },
    {
      "cell_type": "markdown",
      "metadata": {
        "id": "sFU-4ZXp4Q9l"
      },
      "source": [
        "### **Checking Duplication and Missing Values** <a id=\"4\"></a>\n",
        "\n",
        "    \n",
        "Before visualization and outlier checks it is very important to handle duplicate and missing values."
      ]
    },
    {
      "cell_type": "code",
      "metadata": {
        "id": "sOMAq-Fn1UYP",
        "colab": {
          "base_uri": "https://localhost:8080/"
        },
        "outputId": "dfe52bae-9079-455c-83a7-613aa7eee377"
      },
      "source": [
        "print(\"There is {} duplicated values in data frame\".format(df_dropped.duplicated().sum()))"
      ],
      "execution_count": 11,
      "outputs": [
        {
          "output_type": "stream",
          "text": [
            "There is 0 duplicated values in data frame\n"
          ],
          "name": "stdout"
        }
      ]
    },
    {
      "cell_type": "markdown",
      "metadata": {
        "id": "UAsQFOfT1UYP"
      },
      "source": [
        "* We can drop the duplicates because they have no any effect of training of model.\n",
        "* Firstly let us see the duplicated rows with eyes."
      ]
    },
    {
      "cell_type": "markdown",
      "metadata": {
        "id": "y-30ht-krClj"
      },
      "source": []
    },
    {
      "cell_type": "markdown",
      "metadata": {
        "id": "0CO5lDz_goZs"
      },
      "source": [
        "### **Split Data into Train, val, and test** <a id=\"4\"></a>\n",
        "The dataset we downloaded was a single CSV file. We will split this into train, validation, and test sets."
      ]
    },
    {
      "cell_type": "code",
      "metadata": {
        "colab": {
          "base_uri": "https://localhost:8080/"
        },
        "id": "q5ihb8Vv0TeH",
        "outputId": "c0b7f7b6-5d1f-44e4-a522-c64d348802c4"
      },
      "source": [
        "from sklearn.model_selection import train_test_split\n",
        "from sklearn.preprocessing import LabelEncoder\n",
        "x = df_dropped.drop('Outcome',axis=1)\n",
        "y = df_dropped['Outcome']\n",
        "le = LabelEncoder()\n",
        "y = le.fit_transform(y)\n",
        "\n",
        "x_train,x_test,y_train,y_test = train_test_split(x,y,test_size=0.2, shuffle = True, stratify=y)\n",
        "x_train,x_val,y_train,y_val = train_test_split(x_train,y_train,test_size=0.02, shuffle = True,)\n",
        "print(len(x_train), 'train examples')\n",
        "print(len(x_test), 'test examples')\n",
        "print(len(x_val), 'val examples')\n",
        "print(len(y_train), 'train examples')\n",
        "print(len(y_test), 'test examples')\n",
        "print(len(y_val), 'train examples')"
      ],
      "execution_count": 12,
      "outputs": [
        {
          "output_type": "stream",
          "text": [
            "601 train examples\n",
            "154 test examples\n",
            "13 val examples\n",
            "601 train examples\n",
            "154 test examples\n",
            "13 train examples\n"
          ],
          "name": "stdout"
        }
      ]
    },
    {
      "cell_type": "code",
      "metadata": {
        "colab": {
          "base_uri": "https://localhost:8080/"
        },
        "id": "dECMTijm1F7e",
        "outputId": "789330f0-183a-4af1-b760-5e0cf16ea405"
      },
      "source": [
        "x_train.shape,x_test.shape,x_val.shape,y_train.shape,y_test.shape,y_val.shape"
      ],
      "execution_count": 13,
      "outputs": [
        {
          "output_type": "execute_result",
          "data": {
            "text/plain": [
              "((601, 7), (154, 7), (13, 7), (601,), (154,), (13,))"
            ]
          },
          "metadata": {
            "tags": []
          },
          "execution_count": 13
        }
      ]
    },
    {
      "cell_type": "code",
      "metadata": {
        "id": "nxX9vkrS1Pgv"
      },
      "source": [
        "from sklearn.preprocessing import StandardScaler\n",
        "scaler = StandardScaler()\n",
        "x_train = scaler.fit_transform(x_train)\n",
        "x_test = scaler.transform(x_test)\n",
        "x_val = scaler.transform(x_val)"
      ],
      "execution_count": 14,
      "outputs": []
    },
    {
      "cell_type": "code",
      "metadata": {
        "id": "HjAdB0lk1SI9"
      },
      "source": [
        "x_train = x_train.reshape(601,7,1)\n",
        "x_test = x_test.reshape(154,7,1)\n",
        "x_val = x_val.reshape(13,7,1)"
      ],
      "execution_count": 16,
      "outputs": []
    },
    {
      "cell_type": "code",
      "metadata": {
        "colab": {
          "base_uri": "https://localhost:8080/"
        },
        "id": "hMS-eNYW1dIN",
        "outputId": "908cc542-6a40-4942-b3c0-f4dad7ccc687"
      },
      "source": [
        "x_train.shape,x_test.shape,x_val.shape"
      ],
      "execution_count": 17,
      "outputs": [
        {
          "output_type": "execute_result",
          "data": {
            "text/plain": [
              "((601, 7, 1), (154, 7, 1), (13, 7, 1))"
            ]
          },
          "metadata": {
            "tags": []
          },
          "execution_count": 17
        }
      ]
    },
    {
      "cell_type": "markdown",
      "metadata": {
        "id": "-Hrjw9dRf6pp"
      },
      "source": [
        "### **Create, compile, and train the model** <a id=\"4\"></a>"
      ]
    },
    {
      "cell_type": "code",
      "metadata": {
        "id": "NSzC5wpT1_Hm",
        "colab": {
          "base_uri": "https://localhost:8080/"
        },
        "outputId": "4e606d5b-2a16-4b2f-ae8d-7d6a6355f3cf"
      },
      "source": [
        "model = tf.keras.Sequential([\n",
        "                             tf.keras.layers.Conv1D(filters=64,kernel_size=1,activation='LeakyReLU',input_shape=(7,1)),\n",
        "                             tf.keras.layers.BatchNormalization(),\n",
        "                             tf.keras.layers.Dropout(0.2),\n",
        "\n",
        "                             tf.keras.layers.Conv1D(filters=64, kernel_size=1, activation = 'LeakyReLU'),\n",
        "                             tf.keras.layers.BatchNormalization(),\n",
        "\n",
        "                             tf.keras.layers.Flatten(),\n",
        "                             tf.keras.layers.Dense(128, activation = 'LeakyReLU'),\n",
        "                             tf.keras.layers.Dropout(0.2),\n",
        "                             \n",
        "                             tf.keras.layers.Dense(1, activation = 'sigmoid')])\n",
        "model.summary()"
      ],
      "execution_count": 25,
      "outputs": [
        {
          "output_type": "stream",
          "text": [
            "Model: \"sequential_1\"\n",
            "_________________________________________________________________\n",
            "Layer (type)                 Output Shape              Param #   \n",
            "=================================================================\n",
            "conv1d_2 (Conv1D)            (None, 7, 64)             128       \n",
            "_________________________________________________________________\n",
            "batch_normalization_2 (Batch (None, 7, 64)             256       \n",
            "_________________________________________________________________\n",
            "dropout_2 (Dropout)          (None, 7, 64)             0         \n",
            "_________________________________________________________________\n",
            "conv1d_3 (Conv1D)            (None, 7, 64)             4160      \n",
            "_________________________________________________________________\n",
            "batch_normalization_3 (Batch (None, 7, 64)             256       \n",
            "_________________________________________________________________\n",
            "flatten_1 (Flatten)          (None, 448)               0         \n",
            "_________________________________________________________________\n",
            "dense_2 (Dense)              (None, 128)               57472     \n",
            "_________________________________________________________________\n",
            "dropout_3 (Dropout)          (None, 128)               0         \n",
            "_________________________________________________________________\n",
            "dense_3 (Dense)              (None, 1)                 129       \n",
            "=================================================================\n",
            "Total params: 62,401\n",
            "Trainable params: 62,145\n",
            "Non-trainable params: 256\n",
            "_________________________________________________________________\n"
          ],
          "name": "stdout"
        }
      ]
    },
    {
      "cell_type": "code",
      "metadata": {
        "id": "OGprXul73X4C"
      },
      "source": [
        "model.compile(optimizer=Adam(learning_rate=0.00005),\n",
        "              loss='binary_crossentropy',\n",
        "              metrics=['accuracy'])"
      ],
      "execution_count": 26,
      "outputs": []
    },
    {
      "cell_type": "code",
      "metadata": {
        "id": "WKI0cQ7P4Keh"
      },
      "source": [
        "import datetime, os\n",
        "%load_ext tensorboard"
      ],
      "execution_count": 20,
      "outputs": []
    },
    {
      "cell_type": "code",
      "metadata": {
        "colab": {
          "base_uri": "https://localhost:8080/"
        },
        "id": "3Zgm15mM3jS1",
        "outputId": "d62dcaa9-9090-4dc9-8a0e-9bcbdadd48aa"
      },
      "source": [
        "logdir = os.path.join(\"logs\", datetime.datetime.now().strftime(\"%Y%m%d-%H%M%S\"))\n",
        "tensorboard_callback = tf.keras.callbacks.TensorBoard(logdir, histogram_freq=1)\n",
        "class myCallback(tf.keras.callbacks.Callback):\n",
        "  def on_epoch_end(self, epoch, logs={}):\n",
        "    if(logs.get('accuracy')>0.84):\n",
        "      print(\"\\nReached 84% accuracy so cancelling training!\")\n",
        "      self.model.stop_training = True\n",
        "\n",
        "callbacks = myCallback()\n",
        "history = model.fit(x_train,y_train,\n",
        "                    validation_data=(x_test,y_test),\n",
        "                    verbose=1,\n",
        "                    epochs=1500, callbacks=[tensorboard_callback,callbacks])"
      ],
      "execution_count": 27,
      "outputs": [
        {
          "output_type": "stream",
          "text": [
            "Epoch 1/1500\n",
            " 3/19 [===>..........................] - ETA: 1s - loss: 1.0135 - accuracy: 0.4375 WARNING:tensorflow:Callback method `on_train_batch_end` is slow compared to the batch time (batch time: 0.0049s vs `on_train_batch_end` time: 0.0240s). Check your callbacks.\n",
            "19/19 [==============================] - 2s 24ms/step - loss: 0.8491 - accuracy: 0.5008 - val_loss: 0.6831 - val_accuracy: 0.6429\n",
            "Epoch 2/1500\n",
            "19/19 [==============================] - 0s 5ms/step - loss: 0.6936 - accuracy: 0.6256 - val_loss: 0.6768 - val_accuracy: 0.6299\n",
            "Epoch 3/1500\n",
            "19/19 [==============================] - 0s 6ms/step - loss: 0.6402 - accuracy: 0.6755 - val_loss: 0.6724 - val_accuracy: 0.6364\n",
            "Epoch 4/1500\n",
            "19/19 [==============================] - 0s 5ms/step - loss: 0.6098 - accuracy: 0.6905 - val_loss: 0.6663 - val_accuracy: 0.6364\n",
            "Epoch 5/1500\n",
            "19/19 [==============================] - 0s 6ms/step - loss: 0.6068 - accuracy: 0.6988 - val_loss: 0.6608 - val_accuracy: 0.6494\n",
            "Epoch 6/1500\n",
            "19/19 [==============================] - 0s 6ms/step - loss: 0.5843 - accuracy: 0.7155 - val_loss: 0.6558 - val_accuracy: 0.6494\n",
            "Epoch 7/1500\n",
            "19/19 [==============================] - 0s 7ms/step - loss: 0.5581 - accuracy: 0.7155 - val_loss: 0.6468 - val_accuracy: 0.6494\n",
            "Epoch 8/1500\n",
            "19/19 [==============================] - 0s 6ms/step - loss: 0.5512 - accuracy: 0.7338 - val_loss: 0.6394 - val_accuracy: 0.6753\n",
            "Epoch 9/1500\n",
            "19/19 [==============================] - 0s 5ms/step - loss: 0.5357 - accuracy: 0.7421 - val_loss: 0.6296 - val_accuracy: 0.6688\n",
            "Epoch 10/1500\n",
            "19/19 [==============================] - 0s 5ms/step - loss: 0.5346 - accuracy: 0.7504 - val_loss: 0.6198 - val_accuracy: 0.6753\n",
            "Epoch 11/1500\n",
            "19/19 [==============================] - 0s 6ms/step - loss: 0.5530 - accuracy: 0.7421 - val_loss: 0.6093 - val_accuracy: 0.6883\n",
            "Epoch 12/1500\n",
            "19/19 [==============================] - 0s 6ms/step - loss: 0.5261 - accuracy: 0.7654 - val_loss: 0.5981 - val_accuracy: 0.7143\n",
            "Epoch 13/1500\n",
            "19/19 [==============================] - 0s 5ms/step - loss: 0.5345 - accuracy: 0.7388 - val_loss: 0.5880 - val_accuracy: 0.7208\n",
            "Epoch 14/1500\n",
            "19/19 [==============================] - 0s 6ms/step - loss: 0.5225 - accuracy: 0.7371 - val_loss: 0.5776 - val_accuracy: 0.7208\n",
            "Epoch 15/1500\n",
            "19/19 [==============================] - 0s 6ms/step - loss: 0.5055 - accuracy: 0.7621 - val_loss: 0.5657 - val_accuracy: 0.7273\n",
            "Epoch 16/1500\n",
            "19/19 [==============================] - 0s 7ms/step - loss: 0.5094 - accuracy: 0.7537 - val_loss: 0.5532 - val_accuracy: 0.7273\n",
            "Epoch 17/1500\n",
            "19/19 [==============================] - 0s 6ms/step - loss: 0.4933 - accuracy: 0.7704 - val_loss: 0.5431 - val_accuracy: 0.7468\n",
            "Epoch 18/1500\n",
            "19/19 [==============================] - 0s 6ms/step - loss: 0.5206 - accuracy: 0.7371 - val_loss: 0.5337 - val_accuracy: 0.7597\n",
            "Epoch 19/1500\n",
            "19/19 [==============================] - 0s 6ms/step - loss: 0.4861 - accuracy: 0.7637 - val_loss: 0.5258 - val_accuracy: 0.7662\n",
            "Epoch 20/1500\n",
            "19/19 [==============================] - 0s 6ms/step - loss: 0.5209 - accuracy: 0.7404 - val_loss: 0.5193 - val_accuracy: 0.7792\n",
            "Epoch 21/1500\n",
            "19/19 [==============================] - 0s 5ms/step - loss: 0.5196 - accuracy: 0.7488 - val_loss: 0.5145 - val_accuracy: 0.7857\n",
            "Epoch 22/1500\n",
            "19/19 [==============================] - 0s 6ms/step - loss: 0.5276 - accuracy: 0.7537 - val_loss: 0.5070 - val_accuracy: 0.7922\n",
            "Epoch 23/1500\n",
            "19/19 [==============================] - 0s 6ms/step - loss: 0.4951 - accuracy: 0.7671 - val_loss: 0.5057 - val_accuracy: 0.7922\n",
            "Epoch 24/1500\n",
            "19/19 [==============================] - 0s 6ms/step - loss: 0.5169 - accuracy: 0.7687 - val_loss: 0.5037 - val_accuracy: 0.7792\n",
            "Epoch 25/1500\n",
            "19/19 [==============================] - 0s 6ms/step - loss: 0.4909 - accuracy: 0.7554 - val_loss: 0.5004 - val_accuracy: 0.7727\n",
            "Epoch 26/1500\n",
            "19/19 [==============================] - 0s 5ms/step - loss: 0.4889 - accuracy: 0.7621 - val_loss: 0.4966 - val_accuracy: 0.7857\n",
            "Epoch 27/1500\n",
            "19/19 [==============================] - 0s 6ms/step - loss: 0.4893 - accuracy: 0.7621 - val_loss: 0.4972 - val_accuracy: 0.7792\n",
            "Epoch 28/1500\n",
            "19/19 [==============================] - 0s 6ms/step - loss: 0.4969 - accuracy: 0.7720 - val_loss: 0.4954 - val_accuracy: 0.7727\n",
            "Epoch 29/1500\n",
            "19/19 [==============================] - 0s 6ms/step - loss: 0.4821 - accuracy: 0.7770 - val_loss: 0.4953 - val_accuracy: 0.7727\n",
            "Epoch 30/1500\n",
            "19/19 [==============================] - 0s 5ms/step - loss: 0.4977 - accuracy: 0.7704 - val_loss: 0.4968 - val_accuracy: 0.7857\n",
            "Epoch 31/1500\n",
            "19/19 [==============================] - 0s 5ms/step - loss: 0.4954 - accuracy: 0.7637 - val_loss: 0.4942 - val_accuracy: 0.7857\n",
            "Epoch 32/1500\n",
            "19/19 [==============================] - 0s 6ms/step - loss: 0.5091 - accuracy: 0.7554 - val_loss: 0.4862 - val_accuracy: 0.7857\n",
            "Epoch 33/1500\n",
            "19/19 [==============================] - 0s 5ms/step - loss: 0.4698 - accuracy: 0.7754 - val_loss: 0.4919 - val_accuracy: 0.7857\n",
            "Epoch 34/1500\n",
            "19/19 [==============================] - 0s 6ms/step - loss: 0.5139 - accuracy: 0.7488 - val_loss: 0.5027 - val_accuracy: 0.7792\n",
            "Epoch 35/1500\n",
            "19/19 [==============================] - 0s 5ms/step - loss: 0.5199 - accuracy: 0.7604 - val_loss: 0.5072 - val_accuracy: 0.7792\n",
            "Epoch 36/1500\n",
            "19/19 [==============================] - 0s 6ms/step - loss: 0.4824 - accuracy: 0.7671 - val_loss: 0.5024 - val_accuracy: 0.7857\n",
            "Epoch 37/1500\n",
            "19/19 [==============================] - 0s 6ms/step - loss: 0.4604 - accuracy: 0.7671 - val_loss: 0.5061 - val_accuracy: 0.7792\n",
            "Epoch 38/1500\n",
            "19/19 [==============================] - 0s 6ms/step - loss: 0.4670 - accuracy: 0.7754 - val_loss: 0.5053 - val_accuracy: 0.7857\n",
            "Epoch 39/1500\n",
            "19/19 [==============================] - 0s 5ms/step - loss: 0.4948 - accuracy: 0.7554 - val_loss: 0.5010 - val_accuracy: 0.7857\n",
            "Epoch 40/1500\n",
            "19/19 [==============================] - 0s 6ms/step - loss: 0.4820 - accuracy: 0.7720 - val_loss: 0.4989 - val_accuracy: 0.7857\n",
            "Epoch 41/1500\n",
            "19/19 [==============================] - 0s 5ms/step - loss: 0.4620 - accuracy: 0.7720 - val_loss: 0.5058 - val_accuracy: 0.7857\n",
            "Epoch 42/1500\n",
            "19/19 [==============================] - 0s 6ms/step - loss: 0.4886 - accuracy: 0.7787 - val_loss: 0.5031 - val_accuracy: 0.7857\n",
            "Epoch 43/1500\n",
            "19/19 [==============================] - 0s 6ms/step - loss: 0.4765 - accuracy: 0.7720 - val_loss: 0.5033 - val_accuracy: 0.7857\n",
            "Epoch 44/1500\n",
            "19/19 [==============================] - 0s 6ms/step - loss: 0.4919 - accuracy: 0.7770 - val_loss: 0.5081 - val_accuracy: 0.7857\n",
            "Epoch 45/1500\n",
            "19/19 [==============================] - 0s 6ms/step - loss: 0.4892 - accuracy: 0.7604 - val_loss: 0.5091 - val_accuracy: 0.7857\n",
            "Epoch 46/1500\n",
            "19/19 [==============================] - 0s 6ms/step - loss: 0.4974 - accuracy: 0.7654 - val_loss: 0.5117 - val_accuracy: 0.7792\n",
            "Epoch 47/1500\n",
            "19/19 [==============================] - 0s 6ms/step - loss: 0.4851 - accuracy: 0.7720 - val_loss: 0.5088 - val_accuracy: 0.7792\n",
            "Epoch 48/1500\n",
            "19/19 [==============================] - 0s 6ms/step - loss: 0.4626 - accuracy: 0.7687 - val_loss: 0.5102 - val_accuracy: 0.7792\n",
            "Epoch 49/1500\n",
            "19/19 [==============================] - 0s 6ms/step - loss: 0.4758 - accuracy: 0.7770 - val_loss: 0.5066 - val_accuracy: 0.7792\n",
            "Epoch 50/1500\n",
            "19/19 [==============================] - 0s 6ms/step - loss: 0.4749 - accuracy: 0.7720 - val_loss: 0.5090 - val_accuracy: 0.7792\n",
            "Epoch 51/1500\n",
            "19/19 [==============================] - 0s 6ms/step - loss: 0.4653 - accuracy: 0.7770 - val_loss: 0.5065 - val_accuracy: 0.7792\n",
            "Epoch 52/1500\n",
            "19/19 [==============================] - 0s 6ms/step - loss: 0.4678 - accuracy: 0.7837 - val_loss: 0.5142 - val_accuracy: 0.7792\n",
            "Epoch 53/1500\n",
            "19/19 [==============================] - 0s 5ms/step - loss: 0.4988 - accuracy: 0.7504 - val_loss: 0.5128 - val_accuracy: 0.7792\n",
            "Epoch 54/1500\n",
            "19/19 [==============================] - 0s 6ms/step - loss: 0.4846 - accuracy: 0.8020 - val_loss: 0.5074 - val_accuracy: 0.7792\n",
            "Epoch 55/1500\n",
            "19/19 [==============================] - 0s 7ms/step - loss: 0.4823 - accuracy: 0.7687 - val_loss: 0.5133 - val_accuracy: 0.7792\n",
            "Epoch 56/1500\n",
            "19/19 [==============================] - 0s 6ms/step - loss: 0.4832 - accuracy: 0.7720 - val_loss: 0.5154 - val_accuracy: 0.7857\n",
            "Epoch 57/1500\n",
            "19/19 [==============================] - 0s 6ms/step - loss: 0.4807 - accuracy: 0.7621 - val_loss: 0.5176 - val_accuracy: 0.7792\n",
            "Epoch 58/1500\n",
            "19/19 [==============================] - 0s 7ms/step - loss: 0.4970 - accuracy: 0.7604 - val_loss: 0.5130 - val_accuracy: 0.7857\n",
            "Epoch 59/1500\n",
            "19/19 [==============================] - 0s 5ms/step - loss: 0.4684 - accuracy: 0.7787 - val_loss: 0.5139 - val_accuracy: 0.7857\n",
            "Epoch 60/1500\n",
            "19/19 [==============================] - 0s 6ms/step - loss: 0.4763 - accuracy: 0.7804 - val_loss: 0.5081 - val_accuracy: 0.7792\n",
            "Epoch 61/1500\n",
            "19/19 [==============================] - 0s 6ms/step - loss: 0.4804 - accuracy: 0.7737 - val_loss: 0.5053 - val_accuracy: 0.7792\n",
            "Epoch 62/1500\n",
            "19/19 [==============================] - 0s 6ms/step - loss: 0.4663 - accuracy: 0.7787 - val_loss: 0.5128 - val_accuracy: 0.7792\n",
            "Epoch 63/1500\n",
            "19/19 [==============================] - 0s 6ms/step - loss: 0.4665 - accuracy: 0.7770 - val_loss: 0.5162 - val_accuracy: 0.7857\n",
            "Epoch 64/1500\n",
            "19/19 [==============================] - 0s 6ms/step - loss: 0.4577 - accuracy: 0.7754 - val_loss: 0.5046 - val_accuracy: 0.7727\n",
            "Epoch 65/1500\n",
            "19/19 [==============================] - 0s 6ms/step - loss: 0.4845 - accuracy: 0.7737 - val_loss: 0.5083 - val_accuracy: 0.7727\n",
            "Epoch 66/1500\n",
            "19/19 [==============================] - 0s 6ms/step - loss: 0.4833 - accuracy: 0.7687 - val_loss: 0.5192 - val_accuracy: 0.7792\n",
            "Epoch 67/1500\n",
            "19/19 [==============================] - 0s 6ms/step - loss: 0.4667 - accuracy: 0.7920 - val_loss: 0.5161 - val_accuracy: 0.7792\n",
            "Epoch 68/1500\n",
            "19/19 [==============================] - 0s 6ms/step - loss: 0.4768 - accuracy: 0.7637 - val_loss: 0.5124 - val_accuracy: 0.7792\n",
            "Epoch 69/1500\n",
            "19/19 [==============================] - 0s 5ms/step - loss: 0.4567 - accuracy: 0.7704 - val_loss: 0.5069 - val_accuracy: 0.7792\n",
            "Epoch 70/1500\n",
            "19/19 [==============================] - 0s 6ms/step - loss: 0.4565 - accuracy: 0.7970 - val_loss: 0.5105 - val_accuracy: 0.7792\n",
            "Epoch 71/1500\n",
            "19/19 [==============================] - 0s 6ms/step - loss: 0.4690 - accuracy: 0.7720 - val_loss: 0.5089 - val_accuracy: 0.7792\n",
            "Epoch 72/1500\n",
            "19/19 [==============================] - 0s 6ms/step - loss: 0.4642 - accuracy: 0.7737 - val_loss: 0.5063 - val_accuracy: 0.7727\n",
            "Epoch 73/1500\n",
            "19/19 [==============================] - 0s 6ms/step - loss: 0.4829 - accuracy: 0.7720 - val_loss: 0.5052 - val_accuracy: 0.7792\n",
            "Epoch 74/1500\n",
            "19/19 [==============================] - 0s 6ms/step - loss: 0.4627 - accuracy: 0.7754 - val_loss: 0.5117 - val_accuracy: 0.7857\n",
            "Epoch 75/1500\n",
            "19/19 [==============================] - 0s 6ms/step - loss: 0.4534 - accuracy: 0.7953 - val_loss: 0.5055 - val_accuracy: 0.7792\n",
            "Epoch 76/1500\n",
            "19/19 [==============================] - 0s 6ms/step - loss: 0.4550 - accuracy: 0.7804 - val_loss: 0.5105 - val_accuracy: 0.7792\n",
            "Epoch 77/1500\n",
            "19/19 [==============================] - 0s 6ms/step - loss: 0.4507 - accuracy: 0.7754 - val_loss: 0.5047 - val_accuracy: 0.7792\n",
            "Epoch 78/1500\n",
            "19/19 [==============================] - 0s 6ms/step - loss: 0.4688 - accuracy: 0.7887 - val_loss: 0.5115 - val_accuracy: 0.7857\n",
            "Epoch 79/1500\n",
            "19/19 [==============================] - 0s 6ms/step - loss: 0.4598 - accuracy: 0.7854 - val_loss: 0.5163 - val_accuracy: 0.7857\n",
            "Epoch 80/1500\n",
            "19/19 [==============================] - 0s 6ms/step - loss: 0.4740 - accuracy: 0.7754 - val_loss: 0.5109 - val_accuracy: 0.7857\n",
            "Epoch 81/1500\n",
            "19/19 [==============================] - 0s 6ms/step - loss: 0.4681 - accuracy: 0.7903 - val_loss: 0.5087 - val_accuracy: 0.7792\n",
            "Epoch 82/1500\n",
            "19/19 [==============================] - 0s 6ms/step - loss: 0.4534 - accuracy: 0.7903 - val_loss: 0.5100 - val_accuracy: 0.7792\n",
            "Epoch 83/1500\n",
            "19/19 [==============================] - 0s 6ms/step - loss: 0.4748 - accuracy: 0.7937 - val_loss: 0.5091 - val_accuracy: 0.7792\n",
            "Epoch 84/1500\n",
            "19/19 [==============================] - 0s 6ms/step - loss: 0.4760 - accuracy: 0.7770 - val_loss: 0.5143 - val_accuracy: 0.7727\n",
            "Epoch 85/1500\n",
            "19/19 [==============================] - 0s 7ms/step - loss: 0.4638 - accuracy: 0.7903 - val_loss: 0.5204 - val_accuracy: 0.7727\n",
            "Epoch 86/1500\n",
            "19/19 [==============================] - 0s 5ms/step - loss: 0.4542 - accuracy: 0.7837 - val_loss: 0.5161 - val_accuracy: 0.7792\n",
            "Epoch 87/1500\n",
            "19/19 [==============================] - 0s 6ms/step - loss: 0.4518 - accuracy: 0.7754 - val_loss: 0.5102 - val_accuracy: 0.7857\n",
            "Epoch 88/1500\n",
            "19/19 [==============================] - 0s 6ms/step - loss: 0.4606 - accuracy: 0.7953 - val_loss: 0.5145 - val_accuracy: 0.7857\n",
            "Epoch 89/1500\n",
            "19/19 [==============================] - 0s 6ms/step - loss: 0.4633 - accuracy: 0.7970 - val_loss: 0.5115 - val_accuracy: 0.7857\n",
            "Epoch 90/1500\n",
            "19/19 [==============================] - 0s 7ms/step - loss: 0.4560 - accuracy: 0.7870 - val_loss: 0.5133 - val_accuracy: 0.7792\n",
            "Epoch 91/1500\n",
            "19/19 [==============================] - 0s 6ms/step - loss: 0.4538 - accuracy: 0.7704 - val_loss: 0.5127 - val_accuracy: 0.7857\n",
            "Epoch 92/1500\n",
            "19/19 [==============================] - 0s 6ms/step - loss: 0.4480 - accuracy: 0.7787 - val_loss: 0.5131 - val_accuracy: 0.7792\n",
            "Epoch 93/1500\n",
            "19/19 [==============================] - 0s 6ms/step - loss: 0.4642 - accuracy: 0.7804 - val_loss: 0.5104 - val_accuracy: 0.7727\n",
            "Epoch 94/1500\n",
            "19/19 [==============================] - 0s 6ms/step - loss: 0.4494 - accuracy: 0.7804 - val_loss: 0.5143 - val_accuracy: 0.7727\n",
            "Epoch 95/1500\n",
            "19/19 [==============================] - 0s 6ms/step - loss: 0.4672 - accuracy: 0.7804 - val_loss: 0.5174 - val_accuracy: 0.7792\n",
            "Epoch 96/1500\n",
            "19/19 [==============================] - 0s 7ms/step - loss: 0.4505 - accuracy: 0.8020 - val_loss: 0.5144 - val_accuracy: 0.7857\n",
            "Epoch 97/1500\n",
            "19/19 [==============================] - 0s 7ms/step - loss: 0.4595 - accuracy: 0.7754 - val_loss: 0.5132 - val_accuracy: 0.7857\n",
            "Epoch 98/1500\n",
            "19/19 [==============================] - 0s 7ms/step - loss: 0.4405 - accuracy: 0.7887 - val_loss: 0.5034 - val_accuracy: 0.7792\n",
            "Epoch 99/1500\n",
            "19/19 [==============================] - 0s 6ms/step - loss: 0.4637 - accuracy: 0.7770 - val_loss: 0.5150 - val_accuracy: 0.7792\n",
            "Epoch 100/1500\n",
            "19/19 [==============================] - 0s 6ms/step - loss: 0.4414 - accuracy: 0.7820 - val_loss: 0.5094 - val_accuracy: 0.7857\n",
            "Epoch 101/1500\n",
            "19/19 [==============================] - 0s 6ms/step - loss: 0.4442 - accuracy: 0.7770 - val_loss: 0.5050 - val_accuracy: 0.7792\n",
            "Epoch 102/1500\n",
            "19/19 [==============================] - 0s 7ms/step - loss: 0.4598 - accuracy: 0.7737 - val_loss: 0.5054 - val_accuracy: 0.7792\n",
            "Epoch 103/1500\n",
            "19/19 [==============================] - 0s 7ms/step - loss: 0.4443 - accuracy: 0.7770 - val_loss: 0.5072 - val_accuracy: 0.7922\n",
            "Epoch 104/1500\n",
            "19/19 [==============================] - 0s 6ms/step - loss: 0.4739 - accuracy: 0.7804 - val_loss: 0.5178 - val_accuracy: 0.7792\n",
            "Epoch 105/1500\n",
            "19/19 [==============================] - 0s 6ms/step - loss: 0.4475 - accuracy: 0.7837 - val_loss: 0.5132 - val_accuracy: 0.7857\n",
            "Epoch 106/1500\n",
            "19/19 [==============================] - 0s 5ms/step - loss: 0.4663 - accuracy: 0.7820 - val_loss: 0.5167 - val_accuracy: 0.7857\n",
            "Epoch 107/1500\n",
            "19/19 [==============================] - 0s 5ms/step - loss: 0.4567 - accuracy: 0.7854 - val_loss: 0.5142 - val_accuracy: 0.7857\n",
            "Epoch 108/1500\n",
            "19/19 [==============================] - 0s 6ms/step - loss: 0.4513 - accuracy: 0.7587 - val_loss: 0.5175 - val_accuracy: 0.7857\n",
            "Epoch 109/1500\n",
            "19/19 [==============================] - 0s 6ms/step - loss: 0.4358 - accuracy: 0.7970 - val_loss: 0.5158 - val_accuracy: 0.7857\n",
            "Epoch 110/1500\n",
            "19/19 [==============================] - 0s 6ms/step - loss: 0.4580 - accuracy: 0.7687 - val_loss: 0.5085 - val_accuracy: 0.7922\n",
            "Epoch 111/1500\n",
            "19/19 [==============================] - 0s 6ms/step - loss: 0.4460 - accuracy: 0.7903 - val_loss: 0.5045 - val_accuracy: 0.7922\n",
            "Epoch 112/1500\n",
            "19/19 [==============================] - 0s 6ms/step - loss: 0.4531 - accuracy: 0.7787 - val_loss: 0.5093 - val_accuracy: 0.7857\n",
            "Epoch 113/1500\n",
            "19/19 [==============================] - 0s 6ms/step - loss: 0.4509 - accuracy: 0.7770 - val_loss: 0.5085 - val_accuracy: 0.7792\n",
            "Epoch 114/1500\n",
            "19/19 [==============================] - 0s 7ms/step - loss: 0.4696 - accuracy: 0.7953 - val_loss: 0.5221 - val_accuracy: 0.7662\n",
            "Epoch 115/1500\n",
            "19/19 [==============================] - 0s 7ms/step - loss: 0.4643 - accuracy: 0.7754 - val_loss: 0.5118 - val_accuracy: 0.7792\n",
            "Epoch 116/1500\n",
            "19/19 [==============================] - 0s 6ms/step - loss: 0.4529 - accuracy: 0.8037 - val_loss: 0.5110 - val_accuracy: 0.7792\n",
            "Epoch 117/1500\n",
            "19/19 [==============================] - 0s 6ms/step - loss: 0.4496 - accuracy: 0.7987 - val_loss: 0.5123 - val_accuracy: 0.7727\n",
            "Epoch 118/1500\n",
            "19/19 [==============================] - 0s 7ms/step - loss: 0.4589 - accuracy: 0.7737 - val_loss: 0.5149 - val_accuracy: 0.7727\n",
            "Epoch 119/1500\n",
            "19/19 [==============================] - 0s 6ms/step - loss: 0.4546 - accuracy: 0.7804 - val_loss: 0.5095 - val_accuracy: 0.7727\n",
            "Epoch 120/1500\n",
            "19/19 [==============================] - 0s 6ms/step - loss: 0.4435 - accuracy: 0.7870 - val_loss: 0.5078 - val_accuracy: 0.7792\n",
            "Epoch 121/1500\n",
            "19/19 [==============================] - 0s 7ms/step - loss: 0.4758 - accuracy: 0.7837 - val_loss: 0.5113 - val_accuracy: 0.7792\n",
            "Epoch 122/1500\n",
            "19/19 [==============================] - 0s 7ms/step - loss: 0.4559 - accuracy: 0.7804 - val_loss: 0.5155 - val_accuracy: 0.7857\n",
            "Epoch 123/1500\n",
            "19/19 [==============================] - 0s 7ms/step - loss: 0.4438 - accuracy: 0.7970 - val_loss: 0.5136 - val_accuracy: 0.7792\n",
            "Epoch 124/1500\n",
            "19/19 [==============================] - 0s 6ms/step - loss: 0.4385 - accuracy: 0.7820 - val_loss: 0.5101 - val_accuracy: 0.7857\n",
            "Epoch 125/1500\n",
            "19/19 [==============================] - 0s 6ms/step - loss: 0.4307 - accuracy: 0.7903 - val_loss: 0.5073 - val_accuracy: 0.7727\n",
            "Epoch 126/1500\n",
            "19/19 [==============================] - 0s 8ms/step - loss: 0.4301 - accuracy: 0.8037 - val_loss: 0.5167 - val_accuracy: 0.7857\n",
            "Epoch 127/1500\n",
            "19/19 [==============================] - 0s 6ms/step - loss: 0.4607 - accuracy: 0.7903 - val_loss: 0.5194 - val_accuracy: 0.7857\n",
            "Epoch 128/1500\n",
            "19/19 [==============================] - 0s 6ms/step - loss: 0.4536 - accuracy: 0.7903 - val_loss: 0.5188 - val_accuracy: 0.7792\n",
            "Epoch 129/1500\n",
            "19/19 [==============================] - 0s 6ms/step - loss: 0.4667 - accuracy: 0.7687 - val_loss: 0.5211 - val_accuracy: 0.7857\n",
            "Epoch 130/1500\n",
            "19/19 [==============================] - 0s 6ms/step - loss: 0.4629 - accuracy: 0.7704 - val_loss: 0.5124 - val_accuracy: 0.7857\n",
            "Epoch 131/1500\n",
            "19/19 [==============================] - 0s 6ms/step - loss: 0.4655 - accuracy: 0.7754 - val_loss: 0.5151 - val_accuracy: 0.7792\n",
            "Epoch 132/1500\n",
            "19/19 [==============================] - 0s 6ms/step - loss: 0.4340 - accuracy: 0.8003 - val_loss: 0.5182 - val_accuracy: 0.7792\n",
            "Epoch 133/1500\n",
            "19/19 [==============================] - 0s 6ms/step - loss: 0.4393 - accuracy: 0.8020 - val_loss: 0.5230 - val_accuracy: 0.7532\n",
            "Epoch 134/1500\n",
            "19/19 [==============================] - 0s 6ms/step - loss: 0.4416 - accuracy: 0.7937 - val_loss: 0.5123 - val_accuracy: 0.7792\n",
            "Epoch 135/1500\n",
            "19/19 [==============================] - 0s 6ms/step - loss: 0.4204 - accuracy: 0.7887 - val_loss: 0.5162 - val_accuracy: 0.7857\n",
            "Epoch 136/1500\n",
            "19/19 [==============================] - 0s 6ms/step - loss: 0.4310 - accuracy: 0.8053 - val_loss: 0.5183 - val_accuracy: 0.7792\n",
            "Epoch 137/1500\n",
            "19/19 [==============================] - 0s 6ms/step - loss: 0.4616 - accuracy: 0.7854 - val_loss: 0.5192 - val_accuracy: 0.7857\n",
            "Epoch 138/1500\n",
            "19/19 [==============================] - 0s 7ms/step - loss: 0.4342 - accuracy: 0.8020 - val_loss: 0.5128 - val_accuracy: 0.7857\n",
            "Epoch 139/1500\n",
            "19/19 [==============================] - 0s 7ms/step - loss: 0.4465 - accuracy: 0.8020 - val_loss: 0.5176 - val_accuracy: 0.7857\n",
            "Epoch 140/1500\n",
            "19/19 [==============================] - 0s 7ms/step - loss: 0.4200 - accuracy: 0.8020 - val_loss: 0.5206 - val_accuracy: 0.7792\n",
            "Epoch 141/1500\n",
            "19/19 [==============================] - 0s 6ms/step - loss: 0.4343 - accuracy: 0.7887 - val_loss: 0.5178 - val_accuracy: 0.7857\n",
            "Epoch 142/1500\n",
            "19/19 [==============================] - 0s 7ms/step - loss: 0.4574 - accuracy: 0.7953 - val_loss: 0.5141 - val_accuracy: 0.7792\n",
            "Epoch 143/1500\n",
            "19/19 [==============================] - 0s 6ms/step - loss: 0.4440 - accuracy: 0.7937 - val_loss: 0.5149 - val_accuracy: 0.7792\n",
            "Epoch 144/1500\n",
            "19/19 [==============================] - 0s 6ms/step - loss: 0.4353 - accuracy: 0.7820 - val_loss: 0.5194 - val_accuracy: 0.7792\n",
            "Epoch 145/1500\n",
            "19/19 [==============================] - 0s 6ms/step - loss: 0.4370 - accuracy: 0.7854 - val_loss: 0.5149 - val_accuracy: 0.7857\n",
            "Epoch 146/1500\n",
            "19/19 [==============================] - 0s 6ms/step - loss: 0.4370 - accuracy: 0.8037 - val_loss: 0.5180 - val_accuracy: 0.7857\n",
            "Epoch 147/1500\n",
            "19/19 [==============================] - 0s 7ms/step - loss: 0.4469 - accuracy: 0.7754 - val_loss: 0.5144 - val_accuracy: 0.7792\n",
            "Epoch 148/1500\n",
            "19/19 [==============================] - 0s 6ms/step - loss: 0.4398 - accuracy: 0.7837 - val_loss: 0.5140 - val_accuracy: 0.7857\n",
            "Epoch 149/1500\n",
            "19/19 [==============================] - 0s 6ms/step - loss: 0.4422 - accuracy: 0.7987 - val_loss: 0.5131 - val_accuracy: 0.7857\n",
            "Epoch 150/1500\n",
            "19/19 [==============================] - 0s 6ms/step - loss: 0.4308 - accuracy: 0.8020 - val_loss: 0.5147 - val_accuracy: 0.7792\n",
            "Epoch 151/1500\n",
            "19/19 [==============================] - 0s 7ms/step - loss: 0.4479 - accuracy: 0.7903 - val_loss: 0.5195 - val_accuracy: 0.7792\n",
            "Epoch 152/1500\n",
            "19/19 [==============================] - 0s 6ms/step - loss: 0.4330 - accuracy: 0.7970 - val_loss: 0.5150 - val_accuracy: 0.7857\n",
            "Epoch 153/1500\n",
            "19/19 [==============================] - 0s 7ms/step - loss: 0.4479 - accuracy: 0.7837 - val_loss: 0.5095 - val_accuracy: 0.7857\n",
            "Epoch 154/1500\n",
            "19/19 [==============================] - 0s 6ms/step - loss: 0.4497 - accuracy: 0.7937 - val_loss: 0.5058 - val_accuracy: 0.7857\n",
            "Epoch 155/1500\n",
            "19/19 [==============================] - 0s 6ms/step - loss: 0.4186 - accuracy: 0.8020 - val_loss: 0.5111 - val_accuracy: 0.7792\n",
            "Epoch 156/1500\n",
            "19/19 [==============================] - 0s 7ms/step - loss: 0.4356 - accuracy: 0.7903 - val_loss: 0.5247 - val_accuracy: 0.7792\n",
            "Epoch 157/1500\n",
            "19/19 [==============================] - 0s 6ms/step - loss: 0.4445 - accuracy: 0.7920 - val_loss: 0.5215 - val_accuracy: 0.7792\n",
            "Epoch 158/1500\n",
            "19/19 [==============================] - 0s 6ms/step - loss: 0.4354 - accuracy: 0.7870 - val_loss: 0.5159 - val_accuracy: 0.7792\n",
            "Epoch 159/1500\n",
            "19/19 [==============================] - 0s 7ms/step - loss: 0.4345 - accuracy: 0.8070 - val_loss: 0.5120 - val_accuracy: 0.7727\n",
            "Epoch 160/1500\n",
            "19/19 [==============================] - 0s 6ms/step - loss: 0.4543 - accuracy: 0.7804 - val_loss: 0.5111 - val_accuracy: 0.7727\n",
            "Epoch 161/1500\n",
            "19/19 [==============================] - 0s 6ms/step - loss: 0.4208 - accuracy: 0.8103 - val_loss: 0.5091 - val_accuracy: 0.7857\n",
            "Epoch 162/1500\n",
            "19/19 [==============================] - 0s 6ms/step - loss: 0.4369 - accuracy: 0.7887 - val_loss: 0.5143 - val_accuracy: 0.7792\n",
            "Epoch 163/1500\n",
            "19/19 [==============================] - 0s 6ms/step - loss: 0.4296 - accuracy: 0.8120 - val_loss: 0.5153 - val_accuracy: 0.7792\n",
            "Epoch 164/1500\n",
            "19/19 [==============================] - 0s 6ms/step - loss: 0.4227 - accuracy: 0.8070 - val_loss: 0.5159 - val_accuracy: 0.7727\n",
            "Epoch 165/1500\n",
            "19/19 [==============================] - 0s 6ms/step - loss: 0.4295 - accuracy: 0.8037 - val_loss: 0.5183 - val_accuracy: 0.7792\n",
            "Epoch 166/1500\n",
            "19/19 [==============================] - 0s 7ms/step - loss: 0.4485 - accuracy: 0.7737 - val_loss: 0.5136 - val_accuracy: 0.7727\n",
            "Epoch 167/1500\n",
            "19/19 [==============================] - 0s 6ms/step - loss: 0.4327 - accuracy: 0.7837 - val_loss: 0.5136 - val_accuracy: 0.7792\n",
            "Epoch 168/1500\n",
            "19/19 [==============================] - 0s 6ms/step - loss: 0.4302 - accuracy: 0.8037 - val_loss: 0.5096 - val_accuracy: 0.7792\n",
            "Epoch 169/1500\n",
            "19/19 [==============================] - 0s 6ms/step - loss: 0.4271 - accuracy: 0.8037 - val_loss: 0.5099 - val_accuracy: 0.7792\n",
            "Epoch 170/1500\n",
            "19/19 [==============================] - 0s 6ms/step - loss: 0.4304 - accuracy: 0.8003 - val_loss: 0.5181 - val_accuracy: 0.7727\n",
            "Epoch 171/1500\n",
            "19/19 [==============================] - 0s 7ms/step - loss: 0.4269 - accuracy: 0.7987 - val_loss: 0.5184 - val_accuracy: 0.7727\n",
            "Epoch 172/1500\n",
            "19/19 [==============================] - 0s 8ms/step - loss: 0.4314 - accuracy: 0.7887 - val_loss: 0.5208 - val_accuracy: 0.7662\n",
            "Epoch 173/1500\n",
            "19/19 [==============================] - 0s 7ms/step - loss: 0.4481 - accuracy: 0.7987 - val_loss: 0.5124 - val_accuracy: 0.7727\n",
            "Epoch 174/1500\n",
            "19/19 [==============================] - 0s 6ms/step - loss: 0.4267 - accuracy: 0.7970 - val_loss: 0.5135 - val_accuracy: 0.7727\n",
            "Epoch 175/1500\n",
            "19/19 [==============================] - 0s 7ms/step - loss: 0.4253 - accuracy: 0.8103 - val_loss: 0.5148 - val_accuracy: 0.7727\n",
            "Epoch 176/1500\n",
            "19/19 [==============================] - 0s 6ms/step - loss: 0.4137 - accuracy: 0.8170 - val_loss: 0.5175 - val_accuracy: 0.7662\n",
            "Epoch 177/1500\n",
            "19/19 [==============================] - 0s 6ms/step - loss: 0.4407 - accuracy: 0.7837 - val_loss: 0.5088 - val_accuracy: 0.7792\n",
            "Epoch 178/1500\n",
            "19/19 [==============================] - 0s 6ms/step - loss: 0.4267 - accuracy: 0.8003 - val_loss: 0.5103 - val_accuracy: 0.7792\n",
            "Epoch 179/1500\n",
            "19/19 [==============================] - 0s 6ms/step - loss: 0.4377 - accuracy: 0.8037 - val_loss: 0.5182 - val_accuracy: 0.7792\n",
            "Epoch 180/1500\n",
            "19/19 [==============================] - 0s 6ms/step - loss: 0.4367 - accuracy: 0.7987 - val_loss: 0.5168 - val_accuracy: 0.7727\n",
            "Epoch 181/1500\n",
            "19/19 [==============================] - 0s 5ms/step - loss: 0.4465 - accuracy: 0.7887 - val_loss: 0.5190 - val_accuracy: 0.7727\n",
            "Epoch 182/1500\n",
            "19/19 [==============================] - 0s 7ms/step - loss: 0.4386 - accuracy: 0.7970 - val_loss: 0.5201 - val_accuracy: 0.7727\n",
            "Epoch 183/1500\n",
            "19/19 [==============================] - 0s 6ms/step - loss: 0.4364 - accuracy: 0.7820 - val_loss: 0.5180 - val_accuracy: 0.7727\n",
            "Epoch 184/1500\n",
            "19/19 [==============================] - 0s 6ms/step - loss: 0.4200 - accuracy: 0.7870 - val_loss: 0.5138 - val_accuracy: 0.7727\n",
            "Epoch 185/1500\n",
            "19/19 [==============================] - 0s 6ms/step - loss: 0.4235 - accuracy: 0.8170 - val_loss: 0.5212 - val_accuracy: 0.7727\n",
            "Epoch 186/1500\n",
            "19/19 [==============================] - 0s 6ms/step - loss: 0.4375 - accuracy: 0.7920 - val_loss: 0.5180 - val_accuracy: 0.7662\n",
            "Epoch 187/1500\n",
            "19/19 [==============================] - 0s 6ms/step - loss: 0.4260 - accuracy: 0.8070 - val_loss: 0.5191 - val_accuracy: 0.7727\n",
            "Epoch 188/1500\n",
            "19/19 [==============================] - 0s 6ms/step - loss: 0.4426 - accuracy: 0.7804 - val_loss: 0.5114 - val_accuracy: 0.7727\n",
            "Epoch 189/1500\n",
            "19/19 [==============================] - 0s 7ms/step - loss: 0.4440 - accuracy: 0.7953 - val_loss: 0.5199 - val_accuracy: 0.7792\n",
            "Epoch 190/1500\n",
            "19/19 [==============================] - 0s 6ms/step - loss: 0.4128 - accuracy: 0.8103 - val_loss: 0.5182 - val_accuracy: 0.7727\n",
            "Epoch 191/1500\n",
            "19/19 [==============================] - 0s 6ms/step - loss: 0.4184 - accuracy: 0.8053 - val_loss: 0.5142 - val_accuracy: 0.7727\n",
            "Epoch 192/1500\n",
            "19/19 [==============================] - 0s 6ms/step - loss: 0.4296 - accuracy: 0.8120 - val_loss: 0.5217 - val_accuracy: 0.7727\n",
            "Epoch 193/1500\n",
            "19/19 [==============================] - 0s 7ms/step - loss: 0.4248 - accuracy: 0.7820 - val_loss: 0.5238 - val_accuracy: 0.7662\n",
            "Epoch 194/1500\n",
            "19/19 [==============================] - 0s 7ms/step - loss: 0.4245 - accuracy: 0.8020 - val_loss: 0.5147 - val_accuracy: 0.7727\n",
            "Epoch 195/1500\n",
            "19/19 [==============================] - 0s 5ms/step - loss: 0.4158 - accuracy: 0.8037 - val_loss: 0.5178 - val_accuracy: 0.7727\n",
            "Epoch 196/1500\n",
            "19/19 [==============================] - 0s 6ms/step - loss: 0.4205 - accuracy: 0.7970 - val_loss: 0.5154 - val_accuracy: 0.7727\n",
            "Epoch 197/1500\n",
            "19/19 [==============================] - 0s 7ms/step - loss: 0.4165 - accuracy: 0.8070 - val_loss: 0.5184 - val_accuracy: 0.7727\n",
            "Epoch 198/1500\n",
            "19/19 [==============================] - 0s 6ms/step - loss: 0.4290 - accuracy: 0.8020 - val_loss: 0.5145 - val_accuracy: 0.7727\n",
            "Epoch 199/1500\n",
            "19/19 [==============================] - 0s 6ms/step - loss: 0.4369 - accuracy: 0.7870 - val_loss: 0.5222 - val_accuracy: 0.7727\n",
            "Epoch 200/1500\n",
            "19/19 [==============================] - 0s 6ms/step - loss: 0.4235 - accuracy: 0.8070 - val_loss: 0.5279 - val_accuracy: 0.7662\n",
            "Epoch 201/1500\n",
            "19/19 [==============================] - 0s 7ms/step - loss: 0.4284 - accuracy: 0.7920 - val_loss: 0.5244 - val_accuracy: 0.7727\n",
            "Epoch 202/1500\n",
            "19/19 [==============================] - 0s 7ms/step - loss: 0.4232 - accuracy: 0.8003 - val_loss: 0.5257 - val_accuracy: 0.7727\n",
            "Epoch 203/1500\n",
            "19/19 [==============================] - 0s 6ms/step - loss: 0.4449 - accuracy: 0.7953 - val_loss: 0.5173 - val_accuracy: 0.7727\n",
            "Epoch 204/1500\n",
            "19/19 [==============================] - 0s 6ms/step - loss: 0.4267 - accuracy: 0.7870 - val_loss: 0.5252 - val_accuracy: 0.7727\n",
            "Epoch 205/1500\n",
            "19/19 [==============================] - 0s 6ms/step - loss: 0.4315 - accuracy: 0.8120 - val_loss: 0.5241 - val_accuracy: 0.7727\n",
            "Epoch 206/1500\n",
            "19/19 [==============================] - 0s 6ms/step - loss: 0.4279 - accuracy: 0.8053 - val_loss: 0.5248 - val_accuracy: 0.7662\n",
            "Epoch 207/1500\n",
            "19/19 [==============================] - 0s 6ms/step - loss: 0.4329 - accuracy: 0.8053 - val_loss: 0.5176 - val_accuracy: 0.7727\n",
            "Epoch 208/1500\n",
            "19/19 [==============================] - 0s 6ms/step - loss: 0.4299 - accuracy: 0.8087 - val_loss: 0.5090 - val_accuracy: 0.7727\n",
            "Epoch 209/1500\n",
            "19/19 [==============================] - 0s 6ms/step - loss: 0.4216 - accuracy: 0.8136 - val_loss: 0.5148 - val_accuracy: 0.7727\n",
            "Epoch 210/1500\n",
            "19/19 [==============================] - 0s 6ms/step - loss: 0.4275 - accuracy: 0.7770 - val_loss: 0.5083 - val_accuracy: 0.7662\n",
            "Epoch 211/1500\n",
            "19/19 [==============================] - 0s 6ms/step - loss: 0.4462 - accuracy: 0.7837 - val_loss: 0.5204 - val_accuracy: 0.7662\n",
            "Epoch 212/1500\n",
            "19/19 [==============================] - 0s 6ms/step - loss: 0.4323 - accuracy: 0.7970 - val_loss: 0.5196 - val_accuracy: 0.7727\n",
            "Epoch 213/1500\n",
            "19/19 [==============================] - 0s 6ms/step - loss: 0.4231 - accuracy: 0.8053 - val_loss: 0.5234 - val_accuracy: 0.7662\n",
            "Epoch 214/1500\n",
            "19/19 [==============================] - 0s 6ms/step - loss: 0.4272 - accuracy: 0.7870 - val_loss: 0.5216 - val_accuracy: 0.7662\n",
            "Epoch 215/1500\n",
            "19/19 [==============================] - 0s 6ms/step - loss: 0.4261 - accuracy: 0.8037 - val_loss: 0.5186 - val_accuracy: 0.7727\n",
            "Epoch 216/1500\n",
            "19/19 [==============================] - 0s 6ms/step - loss: 0.4256 - accuracy: 0.8120 - val_loss: 0.5254 - val_accuracy: 0.7662\n",
            "Epoch 217/1500\n",
            "19/19 [==============================] - 0s 6ms/step - loss: 0.4292 - accuracy: 0.7953 - val_loss: 0.5201 - val_accuracy: 0.7727\n",
            "Epoch 218/1500\n",
            "19/19 [==============================] - 0s 6ms/step - loss: 0.4139 - accuracy: 0.8186 - val_loss: 0.5187 - val_accuracy: 0.7727\n",
            "Epoch 219/1500\n",
            "19/19 [==============================] - 0s 6ms/step - loss: 0.4308 - accuracy: 0.7870 - val_loss: 0.5280 - val_accuracy: 0.7662\n",
            "Epoch 220/1500\n",
            "19/19 [==============================] - 0s 6ms/step - loss: 0.4219 - accuracy: 0.8120 - val_loss: 0.5257 - val_accuracy: 0.7727\n",
            "Epoch 221/1500\n",
            "19/19 [==============================] - 0s 7ms/step - loss: 0.4237 - accuracy: 0.8003 - val_loss: 0.5230 - val_accuracy: 0.7662\n",
            "Epoch 222/1500\n",
            "19/19 [==============================] - 0s 6ms/step - loss: 0.4314 - accuracy: 0.8020 - val_loss: 0.5253 - val_accuracy: 0.7662\n",
            "Epoch 223/1500\n",
            "19/19 [==============================] - 0s 6ms/step - loss: 0.4238 - accuracy: 0.7903 - val_loss: 0.5249 - val_accuracy: 0.7662\n",
            "Epoch 224/1500\n",
            "19/19 [==============================] - 0s 6ms/step - loss: 0.4268 - accuracy: 0.7970 - val_loss: 0.5213 - val_accuracy: 0.7662\n",
            "Epoch 225/1500\n",
            "19/19 [==============================] - 0s 6ms/step - loss: 0.4249 - accuracy: 0.8020 - val_loss: 0.5241 - val_accuracy: 0.7662\n",
            "Epoch 226/1500\n",
            "19/19 [==============================] - 0s 6ms/step - loss: 0.4250 - accuracy: 0.8003 - val_loss: 0.5210 - val_accuracy: 0.7727\n",
            "Epoch 227/1500\n",
            "19/19 [==============================] - 0s 6ms/step - loss: 0.4088 - accuracy: 0.8136 - val_loss: 0.5189 - val_accuracy: 0.7727\n",
            "Epoch 228/1500\n",
            "19/19 [==============================] - 0s 7ms/step - loss: 0.4205 - accuracy: 0.8037 - val_loss: 0.5166 - val_accuracy: 0.7727\n",
            "Epoch 229/1500\n",
            "19/19 [==============================] - 0s 6ms/step - loss: 0.4135 - accuracy: 0.8186 - val_loss: 0.5168 - val_accuracy: 0.7727\n",
            "Epoch 230/1500\n",
            "19/19 [==============================] - 0s 6ms/step - loss: 0.4423 - accuracy: 0.7804 - val_loss: 0.5249 - val_accuracy: 0.7662\n",
            "Epoch 231/1500\n",
            "19/19 [==============================] - 0s 6ms/step - loss: 0.4132 - accuracy: 0.8037 - val_loss: 0.5251 - val_accuracy: 0.7662\n",
            "Epoch 232/1500\n",
            "19/19 [==============================] - 0s 6ms/step - loss: 0.4276 - accuracy: 0.7903 - val_loss: 0.5156 - val_accuracy: 0.7662\n",
            "Epoch 233/1500\n",
            "19/19 [==============================] - 0s 6ms/step - loss: 0.4251 - accuracy: 0.8003 - val_loss: 0.5219 - val_accuracy: 0.7727\n",
            "Epoch 234/1500\n",
            "19/19 [==============================] - 0s 7ms/step - loss: 0.4350 - accuracy: 0.8037 - val_loss: 0.5177 - val_accuracy: 0.7727\n",
            "Epoch 235/1500\n",
            "19/19 [==============================] - 0s 6ms/step - loss: 0.4297 - accuracy: 0.7887 - val_loss: 0.5212 - val_accuracy: 0.7727\n",
            "Epoch 236/1500\n",
            "19/19 [==============================] - 0s 7ms/step - loss: 0.4379 - accuracy: 0.8020 - val_loss: 0.5179 - val_accuracy: 0.7727\n",
            "Epoch 237/1500\n",
            "19/19 [==============================] - 0s 6ms/step - loss: 0.4284 - accuracy: 0.7937 - val_loss: 0.5205 - val_accuracy: 0.7727\n",
            "Epoch 238/1500\n",
            "19/19 [==============================] - 0s 6ms/step - loss: 0.4117 - accuracy: 0.8020 - val_loss: 0.5299 - val_accuracy: 0.7662\n",
            "Epoch 239/1500\n",
            "19/19 [==============================] - 0s 7ms/step - loss: 0.4239 - accuracy: 0.8053 - val_loss: 0.5242 - val_accuracy: 0.7662\n",
            "Epoch 240/1500\n",
            "19/19 [==============================] - 0s 6ms/step - loss: 0.3974 - accuracy: 0.8136 - val_loss: 0.5172 - val_accuracy: 0.7727\n",
            "Epoch 241/1500\n",
            "19/19 [==============================] - 0s 7ms/step - loss: 0.4211 - accuracy: 0.8003 - val_loss: 0.5189 - val_accuracy: 0.7727\n",
            "Epoch 242/1500\n",
            "19/19 [==============================] - 0s 6ms/step - loss: 0.4162 - accuracy: 0.8203 - val_loss: 0.5253 - val_accuracy: 0.7662\n",
            "Epoch 243/1500\n",
            "19/19 [==============================] - 0s 6ms/step - loss: 0.4073 - accuracy: 0.8253 - val_loss: 0.5256 - val_accuracy: 0.7662\n",
            "Epoch 244/1500\n",
            "19/19 [==============================] - 0s 6ms/step - loss: 0.4149 - accuracy: 0.8203 - val_loss: 0.5273 - val_accuracy: 0.7662\n",
            "Epoch 245/1500\n",
            "19/19 [==============================] - 0s 6ms/step - loss: 0.4027 - accuracy: 0.8253 - val_loss: 0.5222 - val_accuracy: 0.7662\n",
            "Epoch 246/1500\n",
            "19/19 [==============================] - 0s 6ms/step - loss: 0.4011 - accuracy: 0.8286 - val_loss: 0.5248 - val_accuracy: 0.7662\n",
            "Epoch 247/1500\n",
            "19/19 [==============================] - 0s 7ms/step - loss: 0.4127 - accuracy: 0.8203 - val_loss: 0.5236 - val_accuracy: 0.7662\n",
            "Epoch 248/1500\n",
            "19/19 [==============================] - 0s 6ms/step - loss: 0.4064 - accuracy: 0.8087 - val_loss: 0.5252 - val_accuracy: 0.7662\n",
            "Epoch 249/1500\n",
            "19/19 [==============================] - 0s 7ms/step - loss: 0.4263 - accuracy: 0.8153 - val_loss: 0.5216 - val_accuracy: 0.7662\n",
            "Epoch 250/1500\n",
            "19/19 [==============================] - 0s 6ms/step - loss: 0.4062 - accuracy: 0.8037 - val_loss: 0.5264 - val_accuracy: 0.7662\n",
            "Epoch 251/1500\n",
            "19/19 [==============================] - 0s 7ms/step - loss: 0.4218 - accuracy: 0.7970 - val_loss: 0.5269 - val_accuracy: 0.7662\n",
            "Epoch 252/1500\n",
            "19/19 [==============================] - 0s 6ms/step - loss: 0.4286 - accuracy: 0.7970 - val_loss: 0.5184 - val_accuracy: 0.7597\n",
            "Epoch 253/1500\n",
            "19/19 [==============================] - 0s 6ms/step - loss: 0.3993 - accuracy: 0.8319 - val_loss: 0.5208 - val_accuracy: 0.7662\n",
            "Epoch 254/1500\n",
            "19/19 [==============================] - 0s 6ms/step - loss: 0.4092 - accuracy: 0.8070 - val_loss: 0.5288 - val_accuracy: 0.7662\n",
            "Epoch 255/1500\n",
            "19/19 [==============================] - 0s 6ms/step - loss: 0.3979 - accuracy: 0.8286 - val_loss: 0.5330 - val_accuracy: 0.7662\n",
            "Epoch 256/1500\n",
            "19/19 [==============================] - 0s 6ms/step - loss: 0.4329 - accuracy: 0.8053 - val_loss: 0.5271 - val_accuracy: 0.7662\n",
            "Epoch 257/1500\n",
            "19/19 [==============================] - 0s 6ms/step - loss: 0.4126 - accuracy: 0.8087 - val_loss: 0.5254 - val_accuracy: 0.7662\n",
            "Epoch 258/1500\n",
            "19/19 [==============================] - 0s 7ms/step - loss: 0.4179 - accuracy: 0.7987 - val_loss: 0.5251 - val_accuracy: 0.7662\n",
            "Epoch 259/1500\n",
            "19/19 [==============================] - 0s 6ms/step - loss: 0.4249 - accuracy: 0.8120 - val_loss: 0.5167 - val_accuracy: 0.7727\n",
            "Epoch 260/1500\n",
            "19/19 [==============================] - 0s 7ms/step - loss: 0.3933 - accuracy: 0.8087 - val_loss: 0.5207 - val_accuracy: 0.7727\n",
            "Epoch 261/1500\n",
            "19/19 [==============================] - 0s 6ms/step - loss: 0.4133 - accuracy: 0.8003 - val_loss: 0.5292 - val_accuracy: 0.7727\n",
            "Epoch 262/1500\n",
            "19/19 [==============================] - 0s 6ms/step - loss: 0.4259 - accuracy: 0.8053 - val_loss: 0.5257 - val_accuracy: 0.7662\n",
            "Epoch 263/1500\n",
            "19/19 [==============================] - 0s 6ms/step - loss: 0.4110 - accuracy: 0.8053 - val_loss: 0.5218 - val_accuracy: 0.7597\n",
            "Epoch 264/1500\n",
            "19/19 [==============================] - 0s 7ms/step - loss: 0.4136 - accuracy: 0.7953 - val_loss: 0.5324 - val_accuracy: 0.7662\n",
            "Epoch 265/1500\n",
            "19/19 [==============================] - 0s 7ms/step - loss: 0.4194 - accuracy: 0.8170 - val_loss: 0.5300 - val_accuracy: 0.7662\n",
            "Epoch 266/1500\n",
            "19/19 [==============================] - 0s 6ms/step - loss: 0.4251 - accuracy: 0.8070 - val_loss: 0.5219 - val_accuracy: 0.7727\n",
            "Epoch 267/1500\n",
            "19/19 [==============================] - 0s 6ms/step - loss: 0.4183 - accuracy: 0.8170 - val_loss: 0.5191 - val_accuracy: 0.7662\n",
            "Epoch 268/1500\n",
            "19/19 [==============================] - 0s 5ms/step - loss: 0.4143 - accuracy: 0.7970 - val_loss: 0.5155 - val_accuracy: 0.7727\n",
            "Epoch 269/1500\n",
            "19/19 [==============================] - 0s 7ms/step - loss: 0.4314 - accuracy: 0.7804 - val_loss: 0.5162 - val_accuracy: 0.7662\n",
            "Epoch 270/1500\n",
            "19/19 [==============================] - 0s 7ms/step - loss: 0.4087 - accuracy: 0.8203 - val_loss: 0.5191 - val_accuracy: 0.7662\n",
            "Epoch 271/1500\n",
            "19/19 [==============================] - 0s 7ms/step - loss: 0.4158 - accuracy: 0.7953 - val_loss: 0.5287 - val_accuracy: 0.7597\n",
            "Epoch 272/1500\n",
            "19/19 [==============================] - 0s 6ms/step - loss: 0.4152 - accuracy: 0.8303 - val_loss: 0.5284 - val_accuracy: 0.7597\n",
            "Epoch 273/1500\n",
            "19/19 [==============================] - 0s 7ms/step - loss: 0.4182 - accuracy: 0.8003 - val_loss: 0.5216 - val_accuracy: 0.7597\n",
            "Epoch 274/1500\n",
            "19/19 [==============================] - 0s 7ms/step - loss: 0.4249 - accuracy: 0.7970 - val_loss: 0.5263 - val_accuracy: 0.7597\n",
            "Epoch 275/1500\n",
            "19/19 [==============================] - 0s 6ms/step - loss: 0.4137 - accuracy: 0.8087 - val_loss: 0.5166 - val_accuracy: 0.7662\n",
            "Epoch 276/1500\n",
            "19/19 [==============================] - 0s 6ms/step - loss: 0.4094 - accuracy: 0.8220 - val_loss: 0.5265 - val_accuracy: 0.7597\n",
            "Epoch 277/1500\n",
            "19/19 [==============================] - 0s 6ms/step - loss: 0.4152 - accuracy: 0.8186 - val_loss: 0.5269 - val_accuracy: 0.7597\n",
            "Epoch 278/1500\n",
            "19/19 [==============================] - 0s 6ms/step - loss: 0.4044 - accuracy: 0.8186 - val_loss: 0.5237 - val_accuracy: 0.7597\n",
            "Epoch 279/1500\n",
            "19/19 [==============================] - 0s 6ms/step - loss: 0.4273 - accuracy: 0.8087 - val_loss: 0.5309 - val_accuracy: 0.7662\n",
            "Epoch 280/1500\n",
            "19/19 [==============================] - 0s 6ms/step - loss: 0.3960 - accuracy: 0.8203 - val_loss: 0.5267 - val_accuracy: 0.7662\n",
            "Epoch 281/1500\n",
            "19/19 [==============================] - 0s 6ms/step - loss: 0.4072 - accuracy: 0.8170 - val_loss: 0.5243 - val_accuracy: 0.7662\n",
            "Epoch 282/1500\n",
            "19/19 [==============================] - 0s 7ms/step - loss: 0.4297 - accuracy: 0.8120 - val_loss: 0.5210 - val_accuracy: 0.7727\n",
            "Epoch 283/1500\n",
            "19/19 [==============================] - 0s 6ms/step - loss: 0.4024 - accuracy: 0.8236 - val_loss: 0.5220 - val_accuracy: 0.7662\n",
            "Epoch 284/1500\n",
            "19/19 [==============================] - 0s 6ms/step - loss: 0.4056 - accuracy: 0.8037 - val_loss: 0.5251 - val_accuracy: 0.7597\n",
            "Epoch 285/1500\n",
            "19/19 [==============================] - 0s 6ms/step - loss: 0.3948 - accuracy: 0.8220 - val_loss: 0.5257 - val_accuracy: 0.7662\n",
            "Epoch 286/1500\n",
            "19/19 [==============================] - 0s 7ms/step - loss: 0.4174 - accuracy: 0.8220 - val_loss: 0.5211 - val_accuracy: 0.7662\n",
            "Epoch 287/1500\n",
            "19/19 [==============================] - 0s 6ms/step - loss: 0.4007 - accuracy: 0.8136 - val_loss: 0.5176 - val_accuracy: 0.7662\n",
            "Epoch 288/1500\n",
            "19/19 [==============================] - 0s 6ms/step - loss: 0.4047 - accuracy: 0.7953 - val_loss: 0.5181 - val_accuracy: 0.7597\n",
            "Epoch 289/1500\n",
            "19/19 [==============================] - 0s 7ms/step - loss: 0.4258 - accuracy: 0.8053 - val_loss: 0.5176 - val_accuracy: 0.7597\n",
            "Epoch 290/1500\n",
            "19/19 [==============================] - 0s 7ms/step - loss: 0.4288 - accuracy: 0.7887 - val_loss: 0.5273 - val_accuracy: 0.7597\n",
            "Epoch 291/1500\n",
            "19/19 [==============================] - 0s 7ms/step - loss: 0.4048 - accuracy: 0.8170 - val_loss: 0.5268 - val_accuracy: 0.7532\n",
            "Epoch 292/1500\n",
            "19/19 [==============================] - 0s 6ms/step - loss: 0.4152 - accuracy: 0.8070 - val_loss: 0.5260 - val_accuracy: 0.7597\n",
            "Epoch 293/1500\n",
            "19/19 [==============================] - 0s 7ms/step - loss: 0.4072 - accuracy: 0.8253 - val_loss: 0.5207 - val_accuracy: 0.7662\n",
            "Epoch 294/1500\n",
            "19/19 [==============================] - 0s 6ms/step - loss: 0.4048 - accuracy: 0.8120 - val_loss: 0.5175 - val_accuracy: 0.7662\n",
            "Epoch 295/1500\n",
            "19/19 [==============================] - 0s 7ms/step - loss: 0.4093 - accuracy: 0.8236 - val_loss: 0.5214 - val_accuracy: 0.7662\n",
            "Epoch 296/1500\n",
            "19/19 [==============================] - 0s 7ms/step - loss: 0.3941 - accuracy: 0.8053 - val_loss: 0.5176 - val_accuracy: 0.7532\n",
            "Epoch 297/1500\n",
            "19/19 [==============================] - 0s 6ms/step - loss: 0.4230 - accuracy: 0.8020 - val_loss: 0.5272 - val_accuracy: 0.7597\n",
            "Epoch 298/1500\n",
            "19/19 [==============================] - 0s 6ms/step - loss: 0.4109 - accuracy: 0.8037 - val_loss: 0.5184 - val_accuracy: 0.7597\n",
            "Epoch 299/1500\n",
            "19/19 [==============================] - 0s 6ms/step - loss: 0.4104 - accuracy: 0.8020 - val_loss: 0.5272 - val_accuracy: 0.7532\n",
            "Epoch 300/1500\n",
            "19/19 [==============================] - 0s 6ms/step - loss: 0.4033 - accuracy: 0.8220 - val_loss: 0.5214 - val_accuracy: 0.7532\n",
            "Epoch 301/1500\n",
            "19/19 [==============================] - 0s 6ms/step - loss: 0.4108 - accuracy: 0.8070 - val_loss: 0.5372 - val_accuracy: 0.7597\n",
            "Epoch 302/1500\n",
            "19/19 [==============================] - 0s 6ms/step - loss: 0.4218 - accuracy: 0.8103 - val_loss: 0.5288 - val_accuracy: 0.7597\n",
            "Epoch 303/1500\n",
            "19/19 [==============================] - 0s 7ms/step - loss: 0.4158 - accuracy: 0.8037 - val_loss: 0.5261 - val_accuracy: 0.7662\n",
            "Epoch 304/1500\n",
            "19/19 [==============================] - 0s 7ms/step - loss: 0.3820 - accuracy: 0.8486 - val_loss: 0.5258 - val_accuracy: 0.7662\n",
            "\n",
            "Reached 84% accuracy so cancelling training!\n"
          ],
          "name": "stdout"
        }
      ]
    },
    {
      "cell_type": "code",
      "metadata": {
        "colab": {
          "base_uri": "https://localhost:8080/",
          "height": 573
        },
        "id": "oR66ys6U4GfN",
        "outputId": "0a979631-73de-49ad-c1ac-48ea7b59e7c2"
      },
      "source": [
        "plt.plot(history.history['accuracy'])\n",
        "plt.plot(history.history['val_accuracy'])\n",
        "plt.title('Model accuracy')\n",
        "plt.ylabel('Accuracy')\n",
        "plt.xlabel('Epoch')\n",
        "plt.legend(['Train', 'Validation'], loc='upper left')\n",
        "plt.show()\n",
        "\n",
        "# Plot training & validation loss values\n",
        "plt.plot(history.history['loss'])\n",
        "plt.plot(history.history['val_loss'])\n",
        "plt.title('Model loss')\n",
        "plt.ylabel('Loss')\n",
        "plt.xlabel('Epoch')\n",
        "plt.legend(['Train', 'Validation'], loc='upper left')\n",
        "plt.show()"
      ],
      "execution_count": 28,
      "outputs": [
        {
          "output_type": "display_data",
          "data": {
            "image/png": "[encoded data removed]",
            "text/plain": [
              "<Figure size 432x288 with 1 Axes>"
            ]
          },
          "metadata": {
            "tags": [],
            "needs_background": "light"
          }
        },
        {
          "output_type": "display_data",
          "data": {
            "image/png": "[encoded data removed]",
            "text/plain": [
              "<Figure size 432x288 with 1 Axes>"
            ]
          },
          "metadata": {
            "tags": [],
            "needs_background": "light"
          }
        }
      ]
    },
    {
      "cell_type": "code",
      "metadata": {
        "colab": {
          "base_uri": "https://localhost:8080/"
        },
        "id": "_AIP2T0XIFXi",
        "outputId": "42e065ed-e7d0-40b5-8e51-843ca981fad7"
      },
      "source": [
        "y_val"
      ],
      "execution_count": 33,
      "outputs": [
        {
          "output_type": "execute_result",
          "data": {
            "text/plain": [
              "array([1, 1, 0, 0, 0, 0, 0, 0, 0, 0, 1, 0, 0])"
            ]
          },
          "metadata": {
            "tags": []
          },
          "execution_count": 33
        }
      ]
    },
    {
      "cell_type": "code",
      "metadata": {
        "colab": {
          "base_uri": "https://localhost:8080/"
        },
        "id": "OsO4jRp65oCh",
        "outputId": "9ef78e9b-5e81-4a80-f9b9-90f3306428ca"
      },
      "source": [
        "model.predict(x_val)"
      ],
      "execution_count": 34,
      "outputs": [
        {
          "output_type": "execute_result",
          "data": {
            "text/plain": [
              "array([[0.6294758 ],\n",
              "       [0.18735403],\n",
              "       [0.13523903],\n",
              "       [0.02737656],\n",
              "       [0.06771219],\n",
              "       [0.37575442],\n",
              "       [0.00804591],\n",
              "       [0.05340865],\n",
              "       [0.03048438],\n",
              "       [0.61531585],\n",
              "       [0.8321364 ],\n",
              "       [0.6346661 ],\n",
              "       [0.3290984 ]], dtype=float32)"
            ]
          },
          "metadata": {
            "tags": []
          },
          "execution_count": 34
        }
      ]
    },
    {
      "cell_type": "code",
      "metadata": {
        "id": "cWf5LcZxMPZm"
      },
      "source": [],
      "execution_count": null,
      "outputs": []
    }
  ]
}